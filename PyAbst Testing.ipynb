{
 "cells": [
  {
   "cell_type": "markdown",
   "metadata": {},
   "source": [
    "# PyAbst Example"
   ]
  },
  {
   "cell_type": "markdown",
   "metadata": {},
   "source": [
    "## Introduction"
   ]
  },
  {
   "cell_type": "code",
   "execution_count": 6,
   "metadata": {},
   "outputs": [],
   "source": [
    "import nltk\n",
    "from collections import Counter\n",
    "from nltk.corpus import stopwords\n",
    "import re"
   ]
  },
  {
   "cell_type": "markdown",
   "metadata": {},
   "source": [
    "### Example News Article: Emma Haruka Iwao smashes pi world record with Google help"
   ]
  },
  {
   "cell_type": "markdown",
   "metadata": {},
   "source": [
    "The value of the number pi has been calculated to a new world record length of 31 trillion digits, far past the previous record of 22 trillion. Emma Haruka Iwao, a Google employee from Japan, found the new digits with the help of the companys cloud computing service.<br>\n",
    "\n",
    "Pi is the number you get when you divide a circles circumference by its diameter. The first digits, 3.14, are well known but the number is infinitely long. Extending the known sequence of digits in pi is very difficult because the number follows no set pattern.<br>\n",
    "\n",
    "Pi is used in engineering, physics, supercomputing and space exploration - because its value can be used in calculations for waves, circles and cylinders. The pursuit of longer versions of pi is a long-standing pastime among mathematicians. And Ms Iwao said she had been fascinated by the number since she had been a child.<br>\n",
    "\n",
    "The calculation required 170TB of data (for comparison, 200,000 music tracks take up 1TB) and took 25 virtual machines 121 days to complete.<br>\n",
    "<br>\n",
    "<i>Source: https://www.bbc.co.uk/news/technology-47524760</i>\n"
   ]
  },
  {
   "cell_type": "markdown",
   "metadata": {},
   "source": [
    "### Example News Article Ingest"
   ]
  },
  {
   "cell_type": "code",
   "execution_count": 4,
   "metadata": {},
   "outputs": [],
   "source": [
    "input_text = '''The value of the number pi has been calculated to a new world record length of 31 trillion digits, far past the previous record of 22 trillion. Emma Haruka Iwao, a Google employee from Japan, found the new digits with the help of the companys cloud computing service. Pi is the number you get when you divide a circles circumference by its diameter. The first digits, 3.14, are well known but the number is infinitely long. Extending the known sequence of digits in pi is very difficult because the number follows no set pattern. Pi is used in engineering, physics, supercomputing and space exploration - because its value can be used in calculations for waves, circles and cylinders. The pursuit of longer versions of pi is a long-standing pastime among mathematicians. And Ms Iwao said she had been fascinated by the number since she had been a child. The calculation required 170TB of data (for comparison, 200,000 music tracks take up 1TB) and took 25 virtual machines 121 days to complete.'''"
   ]
  },
  {
   "cell_type": "markdown",
   "metadata": {},
   "source": [
    "### PyAbst Source Code"
   ]
  },
  {
   "cell_type": "code",
   "execution_count": 17,
   "metadata": {},
   "outputs": [],
   "source": [
    "def PyAbst(text, target_words=[], word_weight=1):\n",
    "    '''A function which returns the most important sentences from a list of sentences using common word weighting.'''\n",
    "\n",
    "\n",
    "    # Define StopWords corpus.\n",
    "    new_stopwords = ['said', 'so']  # Additional StopWords.\n",
    "    stopwords = nltk.corpus.stopwords.words('english')\n",
    "    stopwords = stopwords + new_stopwords\n",
    "\n",
    "\n",
    "    # Evaluate upper, lower and capitalised combinations of target words.\n",
    "    target_words_combinations = []\n",
    "    for i in target_words:\n",
    "        upper = i.upper() # Evaluate upper.\n",
    "        target_words_combinations.append(upper)\n",
    "        lower = i.lower() # Evaluate lower.\n",
    "        target_words_combinations.append(lower)\n",
    "        capitalise = i.capitalize() # Evaluate capitalised.\n",
    "        target_words_combinations.append(capitalise)\n",
    "\n",
    "\n",
    "    # Unprocessed text.\n",
    "    input_text = text # Defined here to evaluate reduction percentage.\n",
    "    text = text.replace('?', '.') # Replace ? character with period.\n",
    "    text = text.replace('!', '.') # Replace ! character with period.\n",
    "    text = [x.split('.') for x in text.split('.')]  # Use period to create list of lists with period separation.\n",
    "    text = [[x.lstrip() for x in listx] for listx in text]  # Remove heading whitespace text for each list element.\n",
    "    text = [[x + '.' for x in listx] for listx in text]  # Add a period at the end of each list.\n",
    "    text = text[:-1]  # Remove list containing [.] at the end of list of lists.\n",
    "\n",
    "    processed_text = [] #NOTE: This is a duplicate of unprocessed text with additional processing methods.\n",
    "    for i in text:\n",
    "        i = [re.sub(r'[^\\w\\s]', '', j).lower() for j in i]  # Remove punctuation and lower all words.\n",
    "        i = [nltk.word_tokenize(j) for j in i]  # Tokenize words using NLTK.\n",
    "        i = [item for sublist in i for item in sublist]  # Flatten the list of lists.\n",
    "        i = [j for j in i if j not in stopwords]  # Remove StopWords using NLTK.\n",
    "        processed_text.append(i)\n",
    "\n",
    "\n",
    "    sentences_unpacked = [item for sublist in processed_text for item in sublist] # Unpacked list of lists.\n",
    "\n",
    "\n",
    "    def replace_list_dict(list, dictionary):\n",
    "        '''A function which replaces list elements with corresponding dictionary key-values.'''\n",
    "        replaced = [(item, Counter(sentences_unpacked).get(item, item)) for item in list]\n",
    "        return replaced\n",
    "\n",
    "\n",
    "    sentences_list = []\n",
    "    for i in processed_text: # Converts list (word) element to (word, frequency).\n",
    "        sentences_list.append(replace_list_dict(i, Counter(sentences_unpacked)))\n",
    "\n",
    "\n",
    "    weighted_sentences_list = []\n",
    "    for i in sentences_list:  # Replaces list (word, frequency) element with (word, frequency * weight) if word is in target list.\n",
    "        weighted_sentences_list.append([(t[0], t[1] * word_weight) if t[0] in target_words_combinations else (t[0], t[1]) for t in i])\n",
    "\n",
    "\n",
    "    sentences_list_scores = []\n",
    "    for i in weighted_sentences_list:\n",
    "        sum_score = sum(x[1] for x in i) # Evalute the sum of frequency for each sentence (list within list of lists).\n",
    "        sentences_list_scores.append(sum_score) # Evaluate the sum of frequencies for each sentence.\n",
    "\n",
    "\n",
    "    sentences_length = []\n",
    "    for i in processed_text:\n",
    "        sentence_length = len(i) # Evaluate how many words are in each sentence.\n",
    "        sentences_length.append(sentence_length)\n",
    "\n",
    "\n",
    "    weighted_scores = [(x, x//y) for x, y in zip(sentences_list_scores, sentences_length)] # Evaluate (score, weighted score).\n",
    "    index = int(len(processed_text) * 0.4) # Evaluate fraction of sentences to return.\n",
    "    reduced_indexes = sorted((sorted(range(len(sentences_list_scores)), key=lambda i: sentences_list_scores[i])[-index:]))\n",
    "\n",
    "\n",
    "    reduced_text = list(text[i] for i in reduced_indexes) # Only return the sentences with index in reduced_indexes.\n",
    "    reduced_text = [item for sublist in reduced_text for item in sublist] # Unpacked list of lists.\n",
    "    reduced_text = ' '.join(reduced_text)\n",
    "\n",
    "\n",
    "    # Evaluate text reduction percentage.\n",
    "    original_length = len(input_text)\n",
    "    reduced_length = len(reduced_text)\n",
    "    percentage_diff = str(int(((original_length - reduced_length) / original_length) * 100)) + '%'\n",
    "\n",
    "\n",
    "    return reduced_text, percentage_diff"
   ]
  },
  {
   "cell_type": "markdown",
   "metadata": {},
   "source": [
    "### Example 1: Default Arguments"
   ]
  },
  {
   "cell_type": "code",
   "execution_count": 18,
   "metadata": {},
   "outputs": [
    {
     "name": "stdout",
     "output_type": "stream",
     "text": [
      "The value of the number pi has been calculated to a new world record length of 31 trillion digits, far past the previous record of 22 trillion. Emma Haruka Iwao, a Google employee from Japan, found the new digits with the help of the companys cloud computing service. Extending the known sequence of digits in pi is very difficult because the number follows no set pattern. Pi is used in engineering, physics, supercomputing and space exploration - because its value can be used in calculations for waves, circles and cylinders. \n",
      "\n",
      "Original text reduced by:  46%\n"
     ]
    }
   ],
   "source": [
    "print(PyAbst(input_text, [], 1)[0], '\\n')\n",
    "print('Original text reduced by: ', PyAbst(input_text, [], 1)[1])"
   ]
  },
  {
   "cell_type": "markdown",
   "metadata": {},
   "source": [
    "### Example 2: Suppressing the word 'Japan'"
   ]
  },
  {
   "cell_type": "code",
   "execution_count": 19,
   "metadata": {},
   "outputs": [
    {
     "name": "stdout",
     "output_type": "stream",
     "text": [
      "The value of the number pi has been calculated to a new world record length of 31 trillion digits, far past the previous record of 22 trillion. Extending the known sequence of digits in pi is very difficult because the number follows no set pattern. Pi is used in engineering, physics, supercomputing and space exploration - because its value can be used in calculations for waves, circles and cylinders. The calculation required 170TB of data (for comparison, 200,000 music tracks take up 1TB) and took 25 virtual machines 121 days to complete. \n",
      "\n",
      "Original text reduced by:  45%\n"
     ]
    }
   ],
   "source": [
    "print(PyAbst(input_text, ['Japan'], -20000)[0], '\\n')\n",
    "print('Original text reduced by: ', PyAbst(input_text, ['Japan'], -20000)[1])"
   ]
  },
  {
   "cell_type": "markdown",
   "metadata": {},
   "source": [
    "### Example 3: Amplifying the word 'number'"
   ]
  },
  {
   "cell_type": "code",
   "execution_count": 20,
   "metadata": {},
   "outputs": [
    {
     "name": "stdout",
     "output_type": "stream",
     "text": [
      "The value of the number pi has been calculated to a new world record length of 31 trillion digits, far past the previous record of 22 trillion. Pi is the number you get when you divide a circles circumference by its diameter. Extending the known sequence of digits in pi is very difficult because the number follows no set pattern. And Ms Iwao said she had been fascinated by the number since she had been a child. \n",
      "\n",
      "Original text reduced by:  58%\n"
     ]
    }
   ],
   "source": [
    "print(PyAbst(input_text, ['number'], 200)[0], '\\n')\n",
    "print('Original text reduced by: ', PyAbst(input_text, ['number'], 200)[1])"
   ]
  },
  {
   "cell_type": "markdown",
   "metadata": {},
   "source": [
    "### Summry Comparison"
   ]
  },
  {
   "cell_type": "markdown",
   "metadata": {},
   "source": [
    "When you ingest the same text into Smmry ([www.smmry.com](www.smmry.com)). with select a 5 sentence argument we find the results to match Example 3. However, PyAbs replaces <i>'The first digits, 3.14, are well known but the number is infinitely long.'</i> with <i>'And Ms Iwao said she had been fascinated by the number since she had been a child.'</i>.\n",
    "\n",
    "The value of the number pi has been calculated to a new world record length of 31 trillion digits, far past the previous record of 22 trillion. Pi is the number you get when you divide a circles circumference by its diameter. The first digits, 3.14, are well known but the number is infinitely long. Extending the known sequence of digits in pi is very difficult because the number follows no set pattern."
   ]
  }
 ],
 "metadata": {
  "kernelspec": {
   "display_name": "Python 3",
   "language": "python",
   "name": "python3"
  },
  "language_info": {
   "codemirror_mode": {
    "name": "ipython",
    "version": 3
   },
   "file_extension": ".py",
   "mimetype": "text/x-python",
   "name": "python",
   "nbconvert_exporter": "python",
   "pygments_lexer": "ipython3",
   "version": "3.6.5"
  }
 },
 "nbformat": 4,
 "nbformat_minor": 2
}
